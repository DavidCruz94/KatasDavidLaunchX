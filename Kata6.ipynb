{
 "cells": [
  {
   "cell_type": "code",
   "execution_count": 21,
   "metadata": {},
   "outputs": [
    {
     "name": "stdout",
     "output_type": "stream",
     "text": [
      "hay en total 8 planetas en el sistema solar\n",
      "hay en total 9 planetas en el sistema solar\n",
      "el ultimo planeta en lista es: Pluton\n"
     ]
    }
   ],
   "source": [
    "#crear lista de planetas\n",
    "planetas = ['Mercurio', 'Venus', 'Tierra', 'Marte', 'Jupiter', 'Saturno', 'Urano', 'Neptuno']\n",
    "#mostrar cuantos planetas hay\n",
    "numero_de_planetas = len (planetas)\n",
    "print('hay en total', numero_de_planetas, 'planetas en el sistema solar')\n",
    "#agregar pluton a la lista como ultimo\n",
    "planetas.append('Pluton')\n",
    "numero_de_planetas = len(planetas)\n",
    "print('hay en total', numero_de_planetas, 'planetas en el sistema solar')\n",
    "print('el ultimo planeta en lista es:', planetas[-1])"
   ]
  },
  {
   "cell_type": "markdown",
   "metadata": {},
   "source": [
    "# Ejercicio 2"
   ]
  },
  {
   "cell_type": "code",
   "execution_count": 61,
   "metadata": {},
   "outputs": [
    {
     "name": "stdout",
     "output_type": "stream",
     "text": [
      "los planetas mas cerca del Sol:Neptuno\n",
      "Neptuno\n"
     ]
    }
   ],
   "source": [
    "#Listar planetas\n",
    "planetas = ['Mercurio', 'Venus', 'Tierra', 'Marte', 'Jupiter', 'Saturno', 'Urano', 'Neptuno']\n",
    "#ingresar nuevo planeta\n",
    "Planeta_nuevo = input('Ingresar nombre nuevo de planeta').capitalize()\n",
    "#busca el planeta en la lista \n",
    "Planeta_index = planetas.index (Planeta_nuevo)\n",
    "#mostrar los planetas mas cercanos al Sol\n",
    "print('los planetas mas cerca del Sol:' + Planeta_nuevo)\n",
    "print(Planeta_nuevo[0:Planeta_index])"
   ]
  },
  {
   "cell_type": "code",
   "execution_count": 64,
   "metadata": {},
   "outputs": [
    {
     "name": "stdout",
     "output_type": "stream",
     "text": [
      "los planetas mas lejanos al Sol:Neptuno\n",
      "\n"
     ]
    }
   ],
   "source": [
    "#mostrar los planetas mas lejanos al sol\n",
    "print('los planetas mas lejanos al Sol:' + Planeta_nuevo)\n",
    "print(Planeta_nuevo[Planeta_index + 1:])"
   ]
  },
  {
   "cell_type": "code",
   "execution_count": null,
   "metadata": {},
   "outputs": [],
   "source": []
  }
 ],
 "metadata": {
  "interpreter": {
   "hash": "0aa81fd4a772a8b1e375e8f720fa044defc14a0a448e8667a1098847b41a8cc6"
  },
  "kernelspec": {
   "display_name": "Python 3.10.2 64-bit (windows store)",
   "language": "python",
   "name": "python3"
  },
  "language_info": {
   "codemirror_mode": {
    "name": "ipython",
    "version": 3
   },
   "file_extension": ".py",
   "mimetype": "text/x-python",
   "name": "python",
   "nbconvert_exporter": "python",
   "pygments_lexer": "ipython3",
   "version": "3.10.2"
  },
  "orig_nbformat": 4
 },
 "nbformat": 4,
 "nbformat_minor": 2
}
