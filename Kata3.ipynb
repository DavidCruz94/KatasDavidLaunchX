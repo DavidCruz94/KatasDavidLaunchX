{
 "cells": [
  {
   "cell_type": "markdown",
   "metadata": {},
   "source": [
    "# Proximidad Asteroide"
   ]
  },
  {
   "cell_type": "code",
   "execution_count": 16,
   "metadata": {},
   "outputs": [
    {
     "name": "stdout",
     "output_type": "stream",
     "text": [
      "Peligro un asteroide se acerca\n"
     ]
    }
   ],
   "source": [
    "Asteroide = 49\n",
    "Vel = 25\n",
    "if Vel >= 25:\n",
    "    print ('Peligro un asteroide se acerca')\n",
    "else:\n",
    "    print ('No hay peligro')"
   ]
  },
  {
   "cell_type": "markdown",
   "metadata": {},
   "source": [
    "# Asteroide en Atmosfera"
   ]
  },
  {
   "cell_type": "code",
   "execution_count": 22,
   "metadata": {},
   "outputs": [
    {
     "name": "stdout",
     "output_type": "stream",
     "text": [
      "No hay rayos en el cielo\n"
     ]
    }
   ],
   "source": [
    "Asteroide = 19\n",
    "Vel_asteroide = 20\n",
    "if Asteroide >= 20:\n",
    "    print ('Rayos de luz')\n",
    "elif Asteroide == 20:\n",
    "    print ('Rayos de luz')\n",
    "else:\n",
    "    print ('No hay rayos en el cielo')\n"
   ]
  },
  {
   "cell_type": "markdown",
   "metadata": {},
   "source": [
    "# Advertencias de Asteroides"
   ]
  },
  {
   "cell_type": "code",
   "execution_count": 28,
   "metadata": {},
   "outputs": [
    {
     "name": "stdout",
     "output_type": "stream",
     "text": [
      "Rayo en el cielo\n"
     ]
    }
   ],
   "source": [
    "Metros = 25\n",
    "Velocidad = 25\n",
    "if Metros > 25 or Velocidad > 25:\n",
    "    print ('Peligro un Asteroide se acerca')\n",
    "elif Velocidad >= 20:\n",
    "    print ('Rayo en el cielo')\n",
    "elif Metros < 25:\n",
    "    print ('No hay peligro')\n",
    "else:\n",
    "    print('Todo se encuentra en orden')\n"
   ]
  },
  {
   "cell_type": "code",
   "execution_count": null,
   "metadata": {},
   "outputs": [],
   "source": []
  }
 ],
 "metadata": {
  "interpreter": {
   "hash": "0aa81fd4a772a8b1e375e8f720fa044defc14a0a448e8667a1098847b41a8cc6"
  },
  "kernelspec": {
   "display_name": "Python 3.10.2 64-bit (windows store)",
   "language": "python",
   "name": "python3"
  },
  "language_info": {
   "codemirror_mode": {
    "name": "ipython",
    "version": 3
   },
   "file_extension": ".py",
   "mimetype": "text/x-python",
   "name": "python",
   "nbconvert_exporter": "python",
   "pygments_lexer": "ipython3",
   "version": "3.10.2"
  },
  "orig_nbformat": 4
 },
 "nbformat": 4,
 "nbformat_minor": 2
}
