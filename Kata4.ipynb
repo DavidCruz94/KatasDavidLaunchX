{
 "cells": [
  {
   "cell_type": "code",
   "execution_count": 3,
   "metadata": {},
   "outputs": [],
   "source": [
    "texto = \"\"\"Interesting facts about the Moon. The Moon is Earth's only satellite. There are several interesting facts about the Moon and how it affects life here on Earth. \n",
    "On average, the Moon moves 4cm away from the Earth every year. This yearly drift is not significant enough to cause immediate effects on Earth. The highest daylight temperature of the Moon is 127 C.\"\"\""
   ]
  },
  {
   "cell_type": "code",
   "execution_count": 4,
   "metadata": {},
   "outputs": [
    {
     "name": "stdout",
     "output_type": "stream",
     "text": [
      " The Moon is Earth's only satellite\n",
      " There are several interesting facts about the Moon and how it affects life here on Earth\n",
      " \n",
      "On average, the Moon moves 4cm away from the Earth every year\n",
      " This yearly drift is not significant enough to cause immediate effects on Earth\n",
      " The highest daylight temperature of the Moon is 127 C\n",
      "Interesting facts about the Moon\n",
      " The Moon is Earth's only satellite\n",
      " There are several interesting facts about the Moon and how it affects life here on Earth\n",
      " \n",
      "On average, the Moon moves 4cm away from the Earth every year\n",
      " This yearly drift is not significant enough to cause immediate effects on Earth\n",
      " The highest daylight temperature of the Moon is 127 Celsius\n"
     ]
    }
   ],
   "source": [
    "separado = \".\"\n",
    "separado_punto = texto.split (separado)\n",
    "#Definir palabras clave\n",
    "palabra_clave = [\"average, temperature, distance\"]\n",
    "#Ciclo for para organizar el texto quitando el \".\"\n",
    "for sentences in separado_punto:\n",
    "    for palabra_clave in palabra_clave:\n",
    "        if palabra_clave in sentences:\n",
    "            print (sentences)\n",
    "            break\n",
    "#Ciclo for para cambiar C por Celsius\n",
    "for sentences in separado_punto:\n",
    "    for palabra_clave in palabra_clave:\n",
    "        if palabra_clave in sentences:\n",
    "            print (sentences.replace('C', 'Celsius'))\n",
    "            break"
   ]
  },
  {
   "cell_type": "code",
   "execution_count": 89,
   "metadata": {},
   "outputs": [
    {
     "name": "stdout",
     "output_type": "stream",
     "text": [
      "\n",
      "Nombre del planeta: Tierra  \n",
      "Gravedad en Luna: 1.6199999999999999 m/s2 \n",
      "\n",
      "\n",
      "Nombre del planeta: Marte\n",
      "Gravedad en Ganimedes: 1.4300000000000002 m/s2\n",
      "\n"
     ]
    }
   ],
   "source": [
    "planeta = 'Tierra '\n",
    "gravedad  = 0.00162\n",
    "nombre = 'Luna'\n",
    "#Creamos titulo\n",
    "titulo = 'datos gravitatorios de {nombre}'\n",
    "#Crear plantilla\n",
    "hechos = f\"\"\"\n",
    "Nombre del planeta: {planeta} \n",
    "Gravedad en {nombre}: {gravedad * 1000} m/s2 \n",
    "\"\"\"\n",
    "#Union de plantillas\n",
    "plantilla = f\"\"\"{titulo.title()}\n",
    "{hechos} \n",
    "\"\"\"\n",
    "print(hechos)\n",
    "#Nuevos datos\n",
    "planeta = 'Marte'\n",
    "gravedad = 0.00143\n",
    "nombre = 'Ganimedes'\n",
    "\n",
    "nuevo_titulo = f\"\"\"\n",
    "Nombre del planeta: {planeta}\n",
    "Gravedad en {nombre}: {gravedad * 1000} m/s2\n",
    "\"\"\"\n",
    "print (nuevo_titulo)\n"
   ]
  },
  {
   "cell_type": "code",
   "execution_count": null,
   "metadata": {},
   "outputs": [],
   "source": []
  }
 ],
 "metadata": {
  "interpreter": {
   "hash": "0aa81fd4a772a8b1e375e8f720fa044defc14a0a448e8667a1098847b41a8cc6"
  },
  "kernelspec": {
   "display_name": "Python 3.10.2 64-bit (windows store)",
   "language": "python",
   "name": "python3"
  },
  "language_info": {
   "codemirror_mode": {
    "name": "ipython",
    "version": 3
   },
   "file_extension": ".py",
   "mimetype": "text/x-python",
   "name": "python",
   "nbconvert_exporter": "python",
   "pygments_lexer": "ipython3",
   "version": "3.10.2"
  },
  "orig_nbformat": 4
 },
 "nbformat": 4,
 "nbformat_minor": 2
}
