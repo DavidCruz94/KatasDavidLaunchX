{
 "cells": [
  {
   "cell_type": "markdown",
   "metadata": {},
   "source": [
    "# Ejercicio 1"
   ]
  },
  {
   "cell_type": "code",
   "execution_count": 28,
   "metadata": {},
   "outputs": [
    {
     "name": "stdout",
     "output_type": "stream",
     "text": [
      "Marte tiene 2 Lunas\n"
     ]
    }
   ],
   "source": [
    "#crear diccionario\n",
    "planet = {\n",
    "    'Nombre':'Marte',\n",
    "    'Lunas':2\n",
    "}\n",
    "#muestra nombre del planeta y numero de lunas que tiene\n",
    "print(f'{planet[\"Nombre\"]} tiene {planet[\"Lunas\"]} Lunas')"
   ]
  },
  {
   "cell_type": "code",
   "execution_count": 48,
   "metadata": {},
   "outputs": [
    {
     "name": "stdout",
     "output_type": "stream",
     "text": [
      "Marte tiene la circunferencia polar de 6752 km\n"
     ]
    }
   ],
   "source": [
    "#datos de circunferencia\n",
    "polar: 6752\n",
    "equatorial: 6792\n",
    "# agrega la clave circunferencia con los datos proporcionados previamente\n",
    "planet[\"Nombre\"] = 'Marte'\n",
    "planet[\"Lunas\"] = 2\n",
    "planet[\"polar\"] = 6752\n",
    "planet[\"equatorial\"] = 6792\n",
    "#imprimir nombre de planeta con circunferencia polar\n",
    "print(f'{planet[\"Nombre\"]} tiene la circunferencia polar de {planet[\"polar\"]} km')"
   ]
  },
  {
   "cell_type": "markdown",
   "metadata": {},
   "source": [
    "# Ejercicio 2"
   ]
  },
  {
   "cell_type": "code",
   "execution_count": 60,
   "metadata": {},
   "outputs": [
    {
     "name": "stdout",
     "output_type": "stream",
     "text": [
      "17.833333333333332\n"
     ]
    }
   ],
   "source": [
    "#Planets and moons\n",
    "planet_moons = {\n",
    "    'mercury': 0,\n",
    "    'venus': 0,\n",
    "    'earth': 1,\n",
    "    'mars': 2,\n",
    "    'jupiter': 79,\n",
    "    'saturn': 82,\n",
    "    'uranus': 27,\n",
    "    'neptune': 14,\n",
    "    'pluto': 5,\n",
    "    'haumea': 2,\n",
    "    'makemake': 1,\n",
    "    'eris': 1\n",
    "}\n",
    "#Almacenar valores\n",
    "lunas = planet_moons.values()\n",
    "#almacenar resultados\n",
    "planetas = len(planet_moons.keys())\n",
    "#almacenar valor en variable\n",
    "total_lunas = 0\n",
    "for luna in lunas:\n",
    "    total_lunas = total_lunas + luna\n",
    "#calcular el promedio dividiendo el total de lunas\n",
    "promedio = total_lunas / planetas\n",
    "print(promedio)"
   ]
  },
  {
   "cell_type": "code",
   "execution_count": null,
   "metadata": {},
   "outputs": [],
   "source": []
  }
 ],
 "metadata": {
  "interpreter": {
   "hash": "0aa81fd4a772a8b1e375e8f720fa044defc14a0a448e8667a1098847b41a8cc6"
  },
  "kernelspec": {
   "display_name": "Python 3.10.2 64-bit (windows store)",
   "language": "python",
   "name": "python3"
  },
  "language_info": {
   "codemirror_mode": {
    "name": "ipython",
    "version": 3
   },
   "file_extension": ".py",
   "mimetype": "text/x-python",
   "name": "python",
   "nbconvert_exporter": "python",
   "pygments_lexer": "ipython3",
   "version": "3.10.2"
  },
  "orig_nbformat": 4
 },
 "nbformat": 4,
 "nbformat_minor": 2
}
