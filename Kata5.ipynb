{
 "cells": [
  {
   "cell_type": "code",
   "execution_count": 10,
   "metadata": {},
   "outputs": [
    {
     "name": "stdout",
     "output_type": "stream",
     "text": [
      "la distancia en km entre cada planeta es:628949330\n",
      "la distancia en Mi entre cada planeta es:390577533.93\n"
     ]
    }
   ],
   "source": [
    "Tierra = 149597870\n",
    "Jupiter = 778547200\n",
    "#calcular la distancia entre planetas\n",
    "Distancia_km = Jupiter - Tierra\n",
    "print ('la distancia en km entre cada planeta es:' + str(Distancia_km))\n",
    "\n",
    "Distancia_mi = Distancia_km * 0.621\n",
    "print ('la distancia en Mi entre cada planeta es:' + str(Distancia_mi))"
   ]
  },
  {
   "cell_type": "code",
   "execution_count": 11,
   "metadata": {},
   "outputs": [
    {
     "name": "stdout",
     "output_type": "stream",
     "text": [
      "-119700000\n",
      "74333700.0\n"
     ]
    }
   ],
   "source": [
    "Planeta1 = input ('Introduzca la distancia del sol para el primer planeta en KM')\n",
    "Planeta2 = input ('Introduzca la distancia desde el sol para el segundo planeta en KM')\n",
    "#convertir cadenas a numeros enteros\n",
    "Planeta1 = int (Planeta1)\n",
    "Planeta2 = int (Planeta2)\n",
    "#realizar calculo\n",
    "Distancia_km = Planeta1 - Planeta2\n",
    "print (Distancia_km)\n",
    "# abs valor absoluto\n",
    "Distancia_mi = (Distancia_km) * 0.621\n",
    "print(abs(Distancia_mi))"
   ]
  },
  {
   "cell_type": "code",
   "execution_count": null,
   "metadata": {},
   "outputs": [],
   "source": []
  }
 ],
 "metadata": {
  "interpreter": {
   "hash": "0aa81fd4a772a8b1e375e8f720fa044defc14a0a448e8667a1098847b41a8cc6"
  },
  "kernelspec": {
   "display_name": "Python 3.10.2 64-bit (windows store)",
   "language": "python",
   "name": "python3"
  },
  "language_info": {
   "codemirror_mode": {
    "name": "ipython",
    "version": 3
   },
   "file_extension": ".py",
   "mimetype": "text/x-python",
   "name": "python",
   "nbconvert_exporter": "python",
   "pygments_lexer": "ipython3",
   "version": "3.10.2"
  },
  "orig_nbformat": 4
 },
 "nbformat": 4,
 "nbformat_minor": 2
}
